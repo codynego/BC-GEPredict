{
 "cells": [
  {
   "cell_type": "code",
   "execution_count": null,
   "id": "14f3a632",
   "metadata": {},
   "outputs": [
    {
     "ename": "",
     "evalue": "",
     "output_type": "error",
     "traceback": [
      "\u001b[1;31mRunning cells with 'Python 3.13.3' requires the ipykernel package.\n",
      "\u001b[1;31mRun the following command to install 'ipykernel' into the Python environment. \n",
      "\u001b[1;31mCommand: 'c:/Users/Shina/AppData/Local/Programs/Python/Python313/python.exe -m pip install ipykernel -U --user --force-reinstall'"
     ]
    }
   ],
   "source": [
    "import pandas as pd\n",
    "\n",
    "# Load the series matrix\n",
    "series_matrix = pd.read_csv(\"GSE96058_series_matrix.txt\", sep=\"\\t\", skiprows=63, header=None)\n",
    "\n",
    "# Preview the structure\n",
    "for i in range(10):\n",
    "    print(series_matrix.iloc[i, 0])\n",
    "    # Assuming subtype is on a known row (e.g., row 4 after skipping), modify accordingly\n",
    "subtype_row = series_matrix[series_matrix[0].str.contains(\"subtype\", na=False)].iloc[0]\n",
    "subtypes = [entry.split(\": \")[1].replace('\"', '') for entry in subtype_row[1:].tolist()]\n",
    "\n",
    "# Now subtypes is your target list\n",
    "print(subtypes[:10])\n",
    "\n",
    "label_map = {\n",
    "    'Luminal A': 0,\n",
    "    'Luminal B': 1,\n",
    "    'HER2+': 2,\n",
    "    'Basal': 3,\n",
    "    'Normal-like': 4\n",
    "}\n",
    "labels = [label_map[sub] for sub in subtypes]\n",
    "\n"
   ]
  }
 ],
 "metadata": {
  "kernelspec": {
   "display_name": "Python 3",
   "language": "python",
   "name": "python3"
  },
  "language_info": {
   "name": "python",
   "version": "3.13.3"
  }
 },
 "nbformat": 4,
 "nbformat_minor": 5
}
